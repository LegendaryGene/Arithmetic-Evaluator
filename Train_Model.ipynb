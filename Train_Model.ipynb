{
 "cells": [
  {
   "cell_type": "code",
   "execution_count": 1,
   "id": "7c0ff80e-2cc1-4a5c-b851-65fc10f91e8d",
   "metadata": {},
   "outputs": [],
   "source": [
    "import numpy as np\n",
    "import torch\n",
    "import cv2\n",
    "import torchvision\n",
    "import torch.optim as optim\n",
    "from torch.utils.data import Dataset, DataLoader\n",
    "import pandas as pd\n",
    "import torchvision.transforms as transforms\n",
    "from torch.utils.data.sampler import SubsetRandomSampler\n",
    "import matplotlib.pyplot as plt\n",
    "import torch.nn as nn\n",
    "import torch.nn.functional as F\n",
    "from pandas.core.common import flatten\n",
    "from torchvision import datasets, transforms, models\n",
    "import random"
   ]
  },
  {
   "cell_type": "code",
   "execution_count": null,
   "id": "333a6139",
   "metadata": {},
   "outputs": [],
   "source": [
    "num_workers = 0\n",
    "batch_size = 20\n",
    "valid_size = 0.2\n",
    "transform_train = transforms.Compose([transforms.Resize((64,64)),\n",
    "\t\t\t\t\t\t\t\t\t  transforms.Grayscale(),\n",
    "\t\t\t\t\t\t\t\t\t  transforms.ToTensor(),\n",
    "    \t\t\t\t\t\t\t\t  transforms.Normalize((0.5), (0.5))])\n",
    "\n",
    "transform_test = transforms.Compose([transforms.Resize((64,64)),\n",
    "\t\t\t\t\t\t\t\t\t transforms.Grayscale(),\n",
    "\t\t\t\t\t\t\t\t\t transforms.ToTensor(),\n",
    "\t\t\t\t\t\t\t\t\t transforms.Normalize((0.5), (0.5))])\n",
    "train_data = torchvision.datasets.ImageFolder('~/Desktop/Handwritten Arithmetic Calculator/All Data/Small Dataset Thresholded/Train', transform=transform_train)\n",
    "test_data = torchvision.datasets.ImageFolder('~/Desktop/Handwritten Arithmetic Calculator/All Data/Handwritten Dataset Thresholded/Train', transform=transform_test)\n",
    "num_train = len(train_data)\n",
    "indices = list(range(num_train))\n",
    "np.random.shuffle(indices)\n",
    "split = int(np.floor(valid_size * num_train))\n",
    "train_idx, valid_idx = indices[split:], indices[:split]\n",
    "train_sampler = SubsetRandomSampler(train_idx)\n",
    "valid_sampler = SubsetRandomSampler(valid_idx)"
   ]
  },
  {
   "cell_type": "code",
   "execution_count": null,
   "id": "97175fb5",
   "metadata": {},
   "outputs": [],
   "source": [
    "train_loader = torch.utils.data.DataLoader(train_data, batch_size=batch_size,sampler=train_sampler, num_workers=num_workers)\n",
    "valid_loader = torch.utils.data.DataLoader(train_data, batch_size=batch_size, sampler=valid_sampler, num_workers=num_workers)\n",
    "test_loader = torch.utils.data.DataLoader(test_data, batch_size=batch_size,num_workers=num_workers,shuffle = True)\n",
    "classes=['+','-','0','1','2','3','4','5','6','7','8','9','div','times']"
   ]
  },
  {
   "cell_type": "code",
   "execution_count": null,
   "id": "8c14a1e6",
   "metadata": {},
   "outputs": [],
   "source": [
    "class Network(nn.Module):\n",
    "\tdef __init__(self):\n",
    "\t\tsuper(Network,self).__init__()\n",
    "\t\tself.cl1=nn.Conv2d(1,16,3,padding=1)\n",
    "\t\tself.cl1_bn=nn.BatchNorm2d(16)\n",
    "\t\tself.cl2=nn.Conv2d(16,32,3,padding=1)\n",
    "\t\tself.cl2_bn=nn.BatchNorm2d(32)\n",
    "\t\tself.cl3=nn.Conv2d(32,64,3,padding=1)\n",
    "\t\tself.cl3_bn=nn.BatchNorm2d(64)\n",
    "\t\tself.dropout=nn.Dropout(0.2)\n",
    "\t\tself.fc1=nn.Linear(4096,1024)\n",
    "\t\tself.fc1_bn=nn.BatchNorm1d(1024)\n",
    "\t\tself.fc2=nn.Linear(1024,256)\n",
    "\t\tself.fc2_bn=nn.BatchNorm1d(256)\n",
    "\t\tself.fc3=nn.Linear(256,14)\n",
    "\t\tself.pool=nn.MaxPool2d(2,2)\n",
    "\n",
    "\tdef forward(self,x):\n",
    "\t\tx=self.cl1(x)\n",
    "\t\tx=self.pool(F.leaky_relu(self.cl1_bn(x)))\n",
    "\t\tx=self.cl2(x)\n",
    "\t\tx=self.pool(F.leaky_relu(self.cl2_bn(x)))\n",
    "\t\tx=self.cl3(x)\n",
    "\t\tx=self.pool(F.leaky_relu(self.cl3_bn(x)))\n",
    "\t\tx=x.view(-1,4096)\n",
    "\t\tself.dropout(x)\n",
    "\t\tx=self.fc1(x)\n",
    "\t\tx=F.relu(self.fc1_bn(x))\n",
    "\t\tself.dropout(x)\n",
    "\t\tx=self.fc2(x)\n",
    "\t\tx=F.relu(self.fc2_bn(x))\n",
    "\t\tself.dropout(x)\n",
    "\t\tx=self.fc3(x)\n",
    "\t\treturn x\n",
    "\n",
    "model=Network()\n",
    "model.cuda()"
   ]
  },
  {
   "cell_type": "code",
   "execution_count": null,
   "id": "9a3319aa",
   "metadata": {},
   "outputs": [],
   "source": [
    "criterion=nn.CrossEntropyLoss()\n",
    "optimizer=optim.Adam(model.parameters(),lr=0.0005)"
   ]
  },
  {
   "cell_type": "code",
   "execution_count": null,
   "id": "f9a1755b-8adc-4a81-b572-6a029423b04c",
   "metadata": {},
   "outputs": [],
   "source": [
    "%matplotlib inline\n",
    "def imshow(img):\n",
    "    img = img / 2 + 0.5\n",
    "    plt.imshow(np.transpose(img, (1, 2, 0)))  \n",
    "dataiter = iter(train_loader)\n",
    "images, labels = dataiter.next()\n",
    "images = images.numpy() \n",
    "fig = plt.figure(figsize=(25, 4))\n",
    "\n",
    "for idx in np.arange(20):\n",
    "    ax = fig.add_subplot(2, 20//2, idx+1, xticks=[], yticks=[])\n",
    "    imshow(images[idx])\n",
    "    ax.set_title(classes[labels[idx]])"
   ]
  },
  {
   "cell_type": "code",
   "execution_count": null,
   "id": "6619ecf5",
   "metadata": {},
   "outputs": [],
   "source": [
    "torch.cuda.empty_cache()"
   ]
  },
  {
   "cell_type": "code",
   "execution_count": null,
   "id": "3e136273-3ba6-4077-a0d3-336959638258",
   "metadata": {},
   "outputs": [],
   "source": [
    "epochs=50\n",
    "train_losses=np.array([])\n",
    "valid_losses=np.array([])\n",
    "ep=np.array([])\n",
    "valid_loss_min = np.Inf\n",
    "for e in range(epochs):\n",
    "\ttrain_loss=0.0\n",
    "\tvalid_loss=0.0\n",
    "\tmodel.train()\n",
    "\tfor data, target in train_loader:\n",
    "\t\tdata, target = data.cuda(), target.cuda()\n",
    "\t\t# data = torchvision.transforms.functional.invert(data)\n",
    "\t\toutput=model(data)\n",
    "\t\toptimizer.zero_grad()\n",
    "\t\tloss=criterion(output,target)\n",
    "\t\tloss.backward()\n",
    "\t\toptimizer.step()\n",
    "\t\ttrain_loss+=loss.item()*data.size(0)\n",
    "\tmodel.eval()\n",
    "\tfor data, target in valid_loader:\n",
    "\t\tdata, target = data.cuda(), target.cuda()\n",
    "\t\toutput = model(data)\n",
    "\t\tloss = criterion(output, target)\t\t\t\t\t\t\t\t\t\t\t\t\t\t\t\t\n",
    "\t\tvalid_loss += loss.item()*data.size(0)   \n",
    "\ttrain_loss = train_loss/len(train_loader.sampler)\n",
    "\tvalid_loss = valid_loss/len(valid_loader.sampler)\n",
    "\ttrain_losses=np.append(train_losses,train_loss)\n",
    "\tvalid_losses=np.append(valid_losses,valid_loss)\n",
    "\tep=np.append(ep,e)\n",
    "\tprint('Epoch: {} \\tTraining Loss: {:.6f} \\tValidation Loss: {:.6f}'.format(\n",
    "\t\te, train_loss, valid_loss))   \n",
    "\tif valid_loss <= valid_loss_min:\n",
    "\t\tprint('Validation loss decreased ({:.6f} --> {:.6f}).  Saving model ...'.format(valid_loss_min,valid_loss))\n",
    "\t\ttorch.save(model.state_dict(), 'model_ERA_lr0005_2.pt')\n",
    "\t\tvalid_loss_min = valid_loss"
   ]
  },
  {
   "cell_type": "code",
   "execution_count": null,
   "id": "b65faf7c",
   "metadata": {},
   "outputs": [],
   "source": [
    "plt.plot(ep,train_losses,'o-')\n",
    "plt.plot(ep,valid_losses,'o-')\n",
    "plt.xlabel('Epochs')\n",
    "plt.ylabel('Losses')\n",
    "plt.legend(['Train','Valid'])\n",
    "plt.title('Train vs Valid Losses')\n",
    "plt.show()"
   ]
  },
  {
   "cell_type": "code",
   "execution_count": null,
   "id": "323a0968",
   "metadata": {},
   "outputs": [],
   "source": [
    "model.load_state_dict(torch.load('model_ERA_lr0005_2.pt'))"
   ]
  },
  {
   "cell_type": "code",
   "execution_count": null,
   "id": "63df5396",
   "metadata": {},
   "outputs": [],
   "source": [
    "test_loss = 0.0\n",
    "class_correct = list(0. for i in range(14))\n",
    "class_total = list(0. for i in range(14))\n",
    "model.eval()\n",
    "for data, target in test_loader:\n",
    "    data, target = data.cuda(), target.cuda()\n",
    "    # data = torchvision.transforms.functional.invert(data)\n",
    "    output = model(data)\n",
    "    loss = criterion(output, target)\n",
    "    test_loss += loss.item()*data.size(0)\n",
    "    _, pred = torch.max(output, 1)   \n",
    "    correct_tensor = pred.eq(target.data.view_as(pred))\n",
    "    correct = np.squeeze(correct_tensor.cpu().numpy())\n",
    "    \n",
    "    for i in range(0,target.size()[0]):\n",
    "        label = target.data[i]\n",
    "        class_correct[label] += correct[i].item()\n",
    "        class_total[label] += 1\n",
    "\n",
    "test_loss = test_loss/len(test_loader.dataset)\n",
    "print('Test Loss: {:.6f}\\n'.format(test_loss))\n",
    "                \n",
    "for i in range(14):\n",
    "    if class_total[i] > 0:\n",
    "        print('Test Accuracy of %5s: %2d%% (%2d/%2d)' % (\n",
    "            classes[i], 100 * class_correct[i] / class_total[i],\n",
    "            np.sum(class_correct[i]), np.sum(class_total[i])))\n",
    "    else:\n",
    "        print('Test Accuracy of %5s: N/A (no training examples)' % (classes[i]))\n",
    "\n",
    "\n",
    "print('\\nTest Accuracy (Overall): %2d%% (%2d/%2d)' % (\n",
    "    100. * np.sum(class_correct) / np.sum(class_total),\n",
    "    np.sum(class_correct), np.sum(class_total)))"
   ]
  }
 ],
 "metadata": {
  "kernelspec": {
   "display_name": "Python 3.10.6 ('Aadvik_ke_boobs')",
   "language": "python",
   "name": "python3"
  },
  "language_info": {
   "codemirror_mode": {
    "name": "ipython",
    "version": 3
   },
   "file_extension": ".py",
   "mimetype": "text/x-python",
   "name": "python",
   "nbconvert_exporter": "python",
   "pygments_lexer": "ipython3",
   "version": "3.10.6"
  },
  "vscode": {
   "interpreter": {
    "hash": "0d6d5e06e70d13f8fb9c7dacc9b31ee65d70f7b12fae679e8dfe9dc9857e2671"
   }
  }
 },
 "nbformat": 4,
 "nbformat_minor": 5
}
